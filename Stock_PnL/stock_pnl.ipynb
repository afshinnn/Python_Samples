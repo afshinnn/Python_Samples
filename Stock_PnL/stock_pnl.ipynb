{
 "cells": [
  {
   "cell_type": "markdown",
   "metadata": {},
   "source": [
    "##### By Afshin Beh.\n",
    "\n",
    "Below, is a piece of code for calculating profit and loss of a stock positions"
   ]
  },
  {
   "cell_type": "code",
   "execution_count": 39,
   "metadata": {},
   "outputs": [],
   "source": [
    "def get_stock_pnl(_booking_price, _current_price, _quantity=1):\n",
    "    '''\n",
    "    Calculates profit or loss, corresponding to a stock position.\n",
    "    \n",
    "    Arguments:\n",
    "    _booking_price: (float) price of the stock at opening the position\n",
    "    _current_price: (float) current price of the stock\n",
    "    _quantity: (int) number of shares booked\n",
    "    \n",
    "    Returns a tuple representing profit or loss, containing the following elements:\n",
    "    element 1: (float) profit or loss percentage\n",
    "    element 2: (float) amount of profit or loss\n",
    "    '''\n",
    "    price_difference = _current_price - _booking_price\n",
    "    \n",
    "    return (price_difference * _quantity, price_difference / _booking_price) "
   ]
  },
  {
   "cell_type": "code",
   "execution_count": 45,
   "metadata": {},
   "outputs": [
    {
     "name": "stdout",
     "output_type": "stream",
     "text": [
      "You made a profit!\n",
      "PnL($): 3150.00\n",
      "PnL(%): 10.50%\n"
     ]
    }
   ],
   "source": [
    "# variables\n",
    "number_of_shares = 300\n",
    "stock_book_price = 100\n",
    "stock_current_price = 110.5\n",
    "\n",
    "# determine profit or loss\n",
    "position_pnl = get_stock_pnl(\n",
    "    _booking_price = stock_book_price, \n",
    "    _current_price = stock_current_price,\n",
    "    _quantity = number_of_shares)\n",
    "\n",
    "# make a message based on the pnl value\n",
    "msg = ''\n",
    "if position_pnl[0] == 0:\n",
    "    msg = 'You are breakeven!'\n",
    "elif position_pnl[0] > 0:\n",
    "    msg = 'You made a profit!'\n",
    "else:\n",
    "    msg = 'You made a loss!'\n",
    "    \n",
    "# display the results\n",
    "print(msg)\n",
    "print('PnL($): {:.2f}'.format(position_pnl[0]))\n",
    "print('PnL(%): {:.2%}'.format(position_pnl[1]))"
   ]
  }
 ],
 "metadata": {
  "kernelspec": {
   "display_name": "Python 3",
   "language": "python",
   "name": "python3"
  },
  "language_info": {
   "codemirror_mode": {
    "name": "ipython",
    "version": 3
   },
   "file_extension": ".py",
   "mimetype": "text/x-python",
   "name": "python",
   "nbconvert_exporter": "python",
   "pygments_lexer": "ipython3",
   "version": "3.6.2"
  }
 },
 "nbformat": 4,
 "nbformat_minor": 2
}
