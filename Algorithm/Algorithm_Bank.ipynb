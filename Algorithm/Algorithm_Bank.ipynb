{
 "cells": [
  {
   "cell_type": "markdown",
   "metadata": {},
   "source": [
    "### Detect Polindroms "
   ]
  },
  {
   "cell_type": "code",
   "execution_count": 1,
   "metadata": {},
   "outputs": [],
   "source": [
    "def is_polindrom(_word):\n",
    "    '''\n",
    "    Detects wether a word is polyndrom or not\n",
    "    \n",
    "    :param:   str: _word: word to be checked\n",
    "    \n",
    "    :return: bool:      : true if _word is a polyndrom. Otherwise, false.\n",
    "    '''\n",
    "\n",
    "    for i in range(len(_word)//2):\n",
    "        if _word[i].lower() != _word[-1*(i+1)].lower():\n",
    "            return False\n",
    "    return True"
   ]
  },
  {
   "cell_type": "code",
   "execution_count": 2,
   "metadata": {},
   "outputs": [
    {
     "data": {
      "text/plain": [
       "True"
      ]
     },
     "execution_count": 2,
     "metadata": {},
     "output_type": "execute_result"
    }
   ],
   "source": [
    "is_polindrom('Nohon')"
   ]
  },
  {
   "cell_type": "markdown",
   "metadata": {},
   "source": [
    "### Find the second largest element in an integer array"
   ]
  },
  {
   "cell_type": "code",
   "execution_count": 3,
   "metadata": {},
   "outputs": [],
   "source": [
    "def get_second_max(_list):\n",
    "    '''\n",
    "    Return second max in the list.\n",
    "    \n",
    "    :param:  list: the list of integer numbers on which the search must be performed\n",
    "    \n",
    "    :returns: int: the second maximum number in list\n",
    "    '''\n",
    "    \n",
    "    # max \n",
    "    max1 = None\n",
    "    # second max\n",
    "    max2 = None\n",
    "    \n",
    "    for i in _list:\n",
    "        if max1 is None:\n",
    "            max1 = i\n",
    "        elif i > max1:\n",
    "            max2 = max1\n",
    "            max1 = i\n",
    "        # elif i != max1 and (max2 is None or i > max2): --> for returning distict values  \n",
    "        elif max2 is None or i > max2:\n",
    "            max2 = i    \n",
    "    return max2    "
   ]
  },
  {
   "cell_type": "code",
   "execution_count": 4,
   "metadata": {},
   "outputs": [
    {
     "name": "stdout",
     "output_type": "stream",
     "text": [
      "3\n",
      "None\n",
      "-1\n",
      "2\n"
     ]
    }
   ],
   "source": [
    "print(get_second_max([-1, 0, 3, 2, 5]))\n",
    "print(get_second_max(([-1])))\n",
    "print(get_second_max(([-1, 0])))\n",
    "print(get_second_max(([-1, 2, 2])))"
   ]
  },
  {
   "cell_type": "markdown",
   "metadata": {},
   "source": [
    "### Write a function to detect if two strings are reverse of each other"
   ]
  },
  {
   "cell_type": "code",
   "execution_count": 5,
   "metadata": {
    "collapsed": true
   },
   "outputs": [],
   "source": [
    "def is_reserved(_str1, _str2):\n",
    "    '''\n",
    "    Detects if two strings are reserve of each other.\n",
    "    \n",
    "    :param: type string: _str1: the first string to be compared\n",
    "    :param: type string: _str2: the second string to be compared\n",
    "    \n",
    "    :returns: type bool: true, if two strings are reserve of each other. False, otherwise.\n",
    "    '''\n",
    "    \n",
    "    if len(_str1) != len(_str2):\n",
    "        return False\n",
    "    else:\n",
    "        for idx in range(len(_str1)):\n",
    "            if _str1[idx].lower() != _str2[-1 * (idx+1)].lower():\n",
    "                return False\n",
    "        return True"
   ]
  },
  {
   "cell_type": "code",
   "execution_count": 6,
   "metadata": {},
   "outputs": [
    {
     "name": "stdout",
     "output_type": "stream",
     "text": [
      "True\n",
      "False\n",
      "True\n"
     ]
    }
   ],
   "source": [
    "print(is_reserved('ABc', 'CbA'))\n",
    "print(is_reserved('ABc', 'CbA '))\n",
    "print(is_reserved('A', 'a'))"
   ]
  },
  {
   "cell_type": "markdown",
   "metadata": {},
   "source": [
    "### Compare two strings represnting two integer numbers"
   ]
  },
  {
   "cell_type": "markdown",
   "metadata": {},
   "source": [
    "Write a function that compares two string, represnting two interger numbers and return if the first number is greater  than the second numner.\n",
    "\n",
    "- Do not convert srings to integer for comparison.\n",
    "- String are not empty.\n",
    "- Numbers are greater than or euqal to zero.\n",
    "- If two number are the same, function must return false."
   ]
  },
  {
   "cell_type": "code",
   "execution_count": 7,
   "metadata": {},
   "outputs": [],
   "source": [
    "def greater_than(_str1, _str2):\n",
    "    '''\n",
    "    Compares two strings that represent integer number, \n",
    "    and return if the first number is greater than the second number.\n",
    "    \n",
    "    :param: string: _str1: the first string to be compared\n",
    "    :param: string: _str2: the second string to be compared\n",
    "    \n",
    "    :returns: bool: True, if the first number is greater than the second number. Otherwise, False.\n",
    "    '''\n",
    "    if len(_str1) > len(_str2):\n",
    "        return True\n",
    "    elif len(_str1) < len(_str2):\n",
    "        return False\n",
    "    \n",
    "    # two numbers have the same length\n",
    "    for idx in range(len(_str1)):\n",
    "        if _str1[idx] > _str2[idx]:\n",
    "            return True\n",
    "        elif _str1[idx] < _str2[idx]:\n",
    "            return False\n",
    "    \n",
    "    # two numbers are equal\n",
    "    return False"
   ]
  },
  {
   "cell_type": "code",
   "execution_count": 8,
   "metadata": {},
   "outputs": [
    {
     "name": "stdout",
     "output_type": "stream",
     "text": [
      "False\n",
      "True\n",
      "False\n",
      "True\n"
     ]
    }
   ],
   "source": [
    "print(greater_than('1', '1'))\n",
    "print(greater_than('2', '1'))\n",
    "print(greater_than('1', '2'))\n",
    "print(greater_than('11', '4'))"
   ]
  },
  {
   "cell_type": "markdown",
   "metadata": {},
   "source": [
    "### Add up numbers on the diameter of a square matrix "
   ]
  },
  {
   "cell_type": "code",
   "execution_count": 9,
   "metadata": {
    "collapsed": true
   },
   "outputs": [],
   "source": [
    "def diagonal_sum(_2d_array):\n",
    "    total = 0\n",
    "    for idx in range(len(_2d_array)):\n",
    "        total += _2d_array[idx][idx]\n",
    "    return total"
   ]
  },
  {
   "cell_type": "code",
   "execution_count": 10,
   "metadata": {},
   "outputs": [
    {
     "data": {
      "text/plain": [
       "15"
      ]
     },
     "execution_count": 10,
     "metadata": {},
     "output_type": "execute_result"
    }
   ],
   "source": [
    "diagonal_sum([[1,2,3], [4,5,6], [7,8,9]])"
   ]
  },
  {
   "cell_type": "markdown",
   "metadata": {},
   "source": [
    "### Rook Clash "
   ]
  },
  {
   "cell_type": "markdown",
   "metadata": {},
   "source": [
    "Write a function that detects whether any rook in a square chess board, can attack each other.\n",
    "\n",
    "- The board is a square board.\n",
    "- It can be any size greater than 0 by 0 board\n",
    "- Board is given as 2d array, with 1 at rook's positions and 0 for the rest."
   ]
  },
  {
   "cell_type": "code",
   "execution_count": 11,
   "metadata": {
    "collapsed": true
   },
   "outputs": [],
   "source": [
    "def rook_clash(_board):\n",
    "    \n",
    "    # if any row has a sum more than 1, it means at least two rooks clash in that row\n",
    "    for row in _board:\n",
    "        if sum(row) > 1:\n",
    "            return True\n",
    "    \n",
    "    # if any column has a sum more than 1, it means at least two rooks clash in that column\n",
    "    for col_idx in range(len(_board)):\n",
    "        col_sum = 0\n",
    "        for row_idx in range(len(_board)):\n",
    "            col_sum += _board[row_idx][col_idx]\n",
    "        if col_sum > 1:\n",
    "            return True\n",
    "    \n",
    "    # if no rows or columns has sum greater than 1, no rook clashes with others\n",
    "    return False        "
   ]
  },
  {
   "cell_type": "code",
   "execution_count": 12,
   "metadata": {},
   "outputs": [
    {
     "name": "stdout",
     "output_type": "stream",
     "text": [
      "True\n",
      "False\n",
      "False\n"
     ]
    }
   ],
   "source": [
    "print(rook_clash([[0,1,0,0],\n",
    "                  [0,0,0,0],\n",
    "                  [0,1,0,0],\n",
    "                  [0,0,0,0]]))\n",
    "print(rook_clash([[0]]))\n",
    "print(rook_clash([[0,1,0,0],\n",
    "                  [0,0,0,1],\n",
    "                  [0,0,0,0],\n",
    "                  [0,0,0,0]]))"
   ]
  },
  {
   "cell_type": "markdown",
   "metadata": {},
   "source": [
    "__Here is a faster approach:__\n",
    "\n",
    "Since, we have the same number of rows and columns, we can move in rows and columns with at the same time."
   ]
  },
  {
   "cell_type": "code",
   "execution_count": 13,
   "metadata": {
    "collapsed": true
   },
   "outputs": [],
   "source": [
    "def rook_clash_1(_board):\n",
    "    \n",
    "    # board dimension\n",
    "    n = len(_board)\n",
    "    \n",
    "    for i in range(n):\n",
    "        current_row_sum = 0\n",
    "        current_col_sum = 0\n",
    "        for j in range(n):\n",
    "            current_row_sum += _board[i][j]\n",
    "            if current_row_sum > 1:\n",
    "                return True\n",
    "            current_col_sum += _board[j][i]\n",
    "            if current_col_sum > 1:\n",
    "                return True\n",
    "    \n",
    "    # no two rooks clash\n",
    "    return False"
   ]
  },
  {
   "cell_type": "code",
   "execution_count": 14,
   "metadata": {},
   "outputs": [
    {
     "name": "stdout",
     "output_type": "stream",
     "text": [
      "True\n",
      "False\n",
      "False\n"
     ]
    }
   ],
   "source": [
    "print(rook_clash_1([[0,1,0,0],\n",
    "                    [0,0,0,0],\n",
    "                    [0,1,0,0],\n",
    "                    [0,0,0,0]]))\n",
    "print(rook_clash_1([[0]]))\n",
    "print(rook_clash_1([[0,1,0,0],\n",
    "                    [0,0,0,1],\n",
    "                    [0,0,0,0],\n",
    "                    [0,0,0,0]]))"
   ]
  },
  {
   "cell_type": "markdown",
   "metadata": {},
   "source": [
    "### Count number of positive numbers in a two dimensional array, with sorted rows and columns, containing integers."
   ]
  },
  {
   "cell_type": "code",
   "execution_count": 15,
   "metadata": {
    "collapsed": true
   },
   "outputs": [],
   "source": [
    "###\n",
    "### TIME COMPLEXITY : O(N)\n",
    "###\n",
    "\n",
    "def count_negative(_list):\n",
    "    '''\n",
    "    Gets a two dimensional array of integers, with sorted rows and columns,\n",
    "    and return number of positive elements.\n",
    "    \n",
    "    :param: 2d array: _list: A list of lists, where list elements have equal length. \n",
    "                             Rows and columns in 2d list are sorted and include integers.\n",
    "    \n",
    "    :returns:   int: number of negative elements in the 2d list\n",
    "    '''\n",
    "    \n",
    "    # logic: move from the top right corner, to right until meet the first negative in the row\n",
    "    # at that position count all elements to the left in that row are positive.\n",
    "    # Then, move from that position a row down, and move right until meet the first negative \n",
    "    # in that row. Repeat these steps until moving out of the 2d array boundaries.\n",
    "    \n",
    "    positive_count = 0\n",
    "    col_idx = len(_list[0]) - 1\n",
    "    row_idx = 0\n",
    "    \n",
    "    while col_idx >= 0 and row_idx < len(_list):\n",
    "        # if the number at current position is not negative, move to right\n",
    "        if _list[row_idx][col_idx] >= 0:\n",
    "            col_idx -= 1\n",
    "        # if the number at current position is negative, add up the number of \n",
    "        # elemnts to the left in that row to positive_count and move to a row lower\n",
    "        else:\n",
    "            positive_count += len(_list[row_idx]) - (col_idx + 1)\n",
    "            row_idx += 1\n",
    "\n",
    "    return positive_count"
   ]
  },
  {
   "cell_type": "code",
   "execution_count": 16,
   "metadata": {},
   "outputs": [
    {
     "data": {
      "text/plain": [
       "5"
      ]
     },
     "execution_count": 16,
     "metadata": {},
     "output_type": "execute_result"
    }
   ],
   "source": [
    "count_negative([[-5, -1, -1, -1],\n",
    "                [-3, -1,  0,  3],\n",
    "                [-1,  0,  1,  2]])"
   ]
  },
  {
   "cell_type": "markdown",
   "metadata": {},
   "source": [
    "### Write a function to find a pair of numbers in a list that add up to a specific number."
   ]
  },
  {
   "cell_type": "code",
   "execution_count": 17,
   "metadata": {},
   "outputs": [],
   "source": [
    "###\n",
    "### TIME COMPLEXITY : O(N)\n",
    "###\n",
    "\n",
    "def addup_pair(_list, _add_up_num):\n",
    "    '''\n",
    "    Gets a list, and find a pair of numbers that add up to a specific number.\n",
    "    \n",
    "    :param:    list:       _list: list of numbers\n",
    "    :param:     int: _add_up_num: the number that pair must be add up to\n",
    "    \n",
    "    :returns: tuple: the pair of numbers\n",
    "    '''\n",
    "    \n",
    "    # at each number we check if _add_up_number - number exist in dictionary.\n",
    "    # If it does not, we add the number to the dictionary, so that in the case \n",
    "    # we meet the other number, we can make the pair\n",
    "    lookup_dict = {}\n",
    "    for num in _list:\n",
    "        if _add_up_num - num in lookup_dict:\n",
    "            return (_add_up_num - num, num)\n",
    "        else:\n",
    "            lookup_dict[num] = 1\n",
    "            \n",
    "    return ()"
   ]
  },
  {
   "cell_type": "code",
   "execution_count": 18,
   "metadata": {},
   "outputs": [
    {
     "name": "stdout",
     "output_type": "stream",
     "text": [
      "(4, 6)\n",
      "(4, 11)\n",
      "()\n"
     ]
    }
   ],
   "source": [
    "print(addup_pair([1, 2, 3, 4, 5, 6, 7, 8, 9], 10))\n",
    "print(addup_pair([1, 0, -1, 4, 11, 6, 7, 8, 9], 15))\n",
    "print(addup_pair([], 15))"
   ]
  }
 ],
 "metadata": {
  "kernelspec": {
   "display_name": "Python 3",
   "language": "python",
   "name": "python3"
  },
  "language_info": {
   "codemirror_mode": {
    "name": "ipython",
    "version": 3
   },
   "file_extension": ".py",
   "mimetype": "text/x-python",
   "name": "python",
   "nbconvert_exporter": "python",
   "pygments_lexer": "ipython3",
   "version": "3.6.3"
  }
 },
 "nbformat": 4,
 "nbformat_minor": 2
}
