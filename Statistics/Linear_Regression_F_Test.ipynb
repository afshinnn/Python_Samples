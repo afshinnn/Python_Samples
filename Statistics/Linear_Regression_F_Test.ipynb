{
 "cells": [
  {
   "cell_type": "code",
   "execution_count": 1,
   "metadata": {
    "collapsed": true
   },
   "outputs": [],
   "source": [
    "# by Afshin Beh."
   ]
  },
  {
   "cell_type": "code",
   "execution_count": 2,
   "metadata": {
    "collapsed": true
   },
   "outputs": [],
   "source": [
    "import numpy as np\n",
    "import scipy.stats as stats\n",
    "import matplotlib.pyplot as plt"
   ]
  },
  {
   "cell_type": "code",
   "execution_count": 3,
   "metadata": {
    "collapsed": true
   },
   "outputs": [],
   "source": [
    "%matplotlib inline"
   ]
  },
  {
   "cell_type": "code",
   "execution_count": 4,
   "metadata": {
    "collapsed": true
   },
   "outputs": [],
   "source": [
    "# alpha: significance level\n",
    "_alpha = 0.05\n",
    "# confidence interval \n",
    "_ci = 1 - _alpha\n",
    "# degrees of freedom numerator (dfn) \n",
    "_dfn = 3\n",
    "# degrees of freedom denominator (dfd)\n",
    "_dfd = 139"
   ]
  },
  {
   "cell_type": "markdown",
   "metadata": {},
   "source": [
    "Alpha is the probability of rejecting the null hypothesis when the null hypothesis is true (i.e. error type I)\n",
    "\n",
    "P-value is the probability of getting the sample data if the null hypothesis were true. The lower the p-value implies, the wekaer the null hypothesis is. The p-value indicates how extreme the data are.\n",
    "\n",
    "_DFD is also called DFE (degrees of freedom error)._"
   ]
  },
  {
   "cell_type": "markdown",
   "metadata": {},
   "source": [
    "source: https://courses.washington.edu/p209s07/lecturenotes/Week%205_Monday%20overheads.pdf\n",
    "\n",
    "- If the p-value is less than or equal to the alpha (p< .05), then we reject the null hypothesis, and we say the result is statistically significant.\n",
    "- If the p-value is greater than alpha (p > .05), then we fail to reject the null hypothesis, and we say that the result is statistically nonsignificant (n.s.). "
   ]
  },
  {
   "cell_type": "code",
   "execution_count": 5,
   "metadata": {},
   "outputs": [
    {
     "name": "stdout",
     "output_type": "stream",
     "text": [
      "critical value 2.66972623711\n",
      "confidence interval 0.95\n"
     ]
    }
   ],
   "source": [
    "# get critical value, corresponding to confidence interval\n",
    "critical_value = stats.f.ppf(q=_ci, dfn=_dfn, dfd=_dfd)\n",
    "print('critical value', critical_value)\n",
    "\n",
    "# get confidence interval coresponding to a critical value\n",
    "confidence_inetval = stats.f.cdf(critical_value, dfn=_dfn, dfd=_dfd)\n",
    "print('confidence interval', confidence_inetval)"
   ]
  },
  {
   "cell_type": "code",
   "execution_count": 6,
   "metadata": {},
   "outputs": [
    {
     "data": {
      "text/plain": [
       "[<matplotlib.lines.Line2D at 0x23ac838e7f0>]"
      ]
     },
     "execution_count": 6,
     "metadata": {},
     "output_type": "execute_result"
    },
    {
     "data": {
      "image/png": "[encoded data removed]",
      "text/plain": [
       "<matplotlib.figure.Figure at 0x23ac838e588>"
      ]
     },
     "metadata": {},
     "output_type": "display_data"
    }
   ],
   "source": [
    "# f distribution \n",
    "result = stats.f(dfn=_dfn, dfd=_dfd, loc=0, scale=1)\n",
    "x = np.linspace(result.ppf(0.0001), result.ppf(0.9999), 100)\n",
    "y = result.pdf(x)\n",
    "\n",
    "# create a plot to display the F-distribution\n",
    "plt.xlim(0, 6)\n",
    "plt.grid(True)\n",
    "plt.title('F Distribution')\n",
    "plt.xlabel(\"F\")\n",
    "plt.ylabel(\"Probability Density\")\n",
    "plt.plot(x, y, 'b-')"
   ]
  },
  {
   "cell_type": "code",
   "execution_count": 7,
   "metadata": {},
   "outputs": [
    {
     "name": "stdout",
     "output_type": "stream",
     "text": [
      "F No cutoff [ 0.17165657] [ 0.91539325]\n"
     ]
    }
   ],
   "source": [
    "# Probability to pass a cutoff value\n",
    "\n",
    "# statistics\n",
    "x = np.random.normal(size=1)\n",
    "\n",
    "p_value = result.sf(x)\n",
    "if p_value < _alpha:\n",
    "    print('F cutoff at: ', x, p_value)\n",
    "else:\n",
    "    print('F No cutoff', x, p_value)"
   ]
  },
  {
   "cell_type": "markdown",
   "metadata": {},
   "source": [
    "### Regression with Intercept:\n",
    "\n",
    "- simple regression: $Y=\\beta_0+\\beta_1X$\n",
    "- multiple regression: $Y=\\beta_0+\\beta_1X_1+\\beta_2X_2+...+\\beta_nX_n$\n",
    "\n",
    "\n",
    "- __n:__ number of observations\n",
    "- __p:__ number of regression parameters (predictors)\n"
   ]
  },
  {
   "cell_type": "markdown",
   "metadata": {},
   "source": [
    "To decide what predictors to be included in the model, they can be added one by one to the model by replacing another predictor in the model, and if R-squared improves, it can be concluded than the new added predictor is a good predictor."
   ]
  },
  {
   "cell_type": "markdown",
   "metadata": {},
   "source": [
    "### The F-test\n",
    "Source: http://facweb.cs.depaul.edu/sjost/csc423/documents/f-test-reg.htm\n",
    "\n",
    "1) State the null and alternative hypothesis:\n",
    " \n",
    "- $H_0: \\beta_1 = \\beta_2 = , ... , =\\beta_{p-1}$\n",
    "- $H_1: \\beta_j \\ne 0\\ for\\ some\\ j$\n",
    "\n",
    "2) Compute the test statistic: F statistics\n",
    "\n",
    "3) Find a $(1-\\alpha)100\\%$ confidence interval I for (DFN, DFE) degrees of freedom using an F-table or statistical software\n",
    " \n",
    "4) Accept the null hypothesis if $F \\in CI$; reject it if $F \\notin CI$\n",
    " \n",
    "5) Determine the p-value. To obtain the exact p-value, use statistical software. However, we can find a rough approximation to the p-value by examining the other entries in the F-table for (DFN, DFE) degrees of freedom\n",
    " "
   ]
  }
 ],
 "metadata": {
  "kernelspec": {
   "display_name": "Python 3",
   "language": "python",
   "name": "python3"
  },
  "language_info": {
   "codemirror_mode": {
    "name": "ipython",
    "version": 3
   },
   "file_extension": ".py",
   "mimetype": "text/x-python",
   "name": "python",
   "nbconvert_exporter": "python",
   "pygments_lexer": "ipython3",
   "version": "3.6.2"
  }
 },
 "nbformat": 4,
 "nbformat_minor": 2
}
