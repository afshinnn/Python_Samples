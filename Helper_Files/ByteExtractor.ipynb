{
 "cells": [
  {
   "cell_type": "code",
   "execution_count": 55,
   "metadata": {},
   "outputs": [],
   "source": [
    "input_number = -10\n",
    "byte_position = 1"
   ]
  },
  {
   "cell_type": "code",
   "execution_count": 45,
   "metadata": {
    "collapsed": true
   },
   "outputs": [],
   "source": [
    "def extract_byte(_number, _position):\n",
    "    '''\n",
    "    Extract the byte at a specific byte location in a integer number\n",
    "    \n",
    "    :param: int: _number: number from which the byte must be extacted\n",
    "    :param: int: _positin: byte position from the least significant byte to be 1 to the momst significant byte\n",
    "    \n",
    "    :retuns: int: byte value at the specified position\n",
    "    '''\n",
    "    \n",
    "    # position must be at least 1, which is the position of the least significant byte\n",
    "    if (_position > 0):\n",
    "        # create the mask\n",
    "        mask = 0XFF << (_position - 1) * 8\n",
    "        # apply the mask on number\n",
    "        num = _number & mask\n",
    "        # move the byte to the least significant position\n",
    "        return num >> (_position - 1) * 8\n",
    "    else:\n",
    "        print('Warning: Position argument must be greater than 0.')\n",
    "        return 0"
   ]
  },
  {
   "cell_type": "code",
   "execution_count": 56,
   "metadata": {},
   "outputs": [
    {
     "name": "stdout",
     "output_type": "stream",
     "text": [
      "Byte 1 value in number -10 is F6.\n"
     ]
    }
   ],
   "source": [
    "result_byte = extract_byte(input_number, byte_position)\n",
    "print (\"Byte {0} value in number {1} is {2:X}.\".format(byte_position, input_number, result_byte))"
   ]
  },
  {
   "cell_type": "code",
   "execution_count": null,
   "metadata": {
    "collapsed": true
   },
   "outputs": [],
   "source": []
  }
 ],
 "metadata": {
  "kernelspec": {
   "display_name": "Python 3",
   "language": "python",
   "name": "python3"
  },
  "language_info": {
   "codemirror_mode": {
    "name": "ipython",
    "version": 3
   },
   "file_extension": ".py",
   "mimetype": "text/x-python",
   "name": "python",
   "nbconvert_exporter": "python",
   "pygments_lexer": "ipython3",
   "version": "3.6.2"
  }
 },
 "nbformat": 4,
 "nbformat_minor": 2
}
